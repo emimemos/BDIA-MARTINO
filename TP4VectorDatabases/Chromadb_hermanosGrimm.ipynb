{
 "cells": [
  {
   "cell_type": "markdown",
   "metadata": {},
   "source": [
    "# Práctica Chromabd"
   ]
  },
  {
   "cell_type": "code",
   "metadata": {
    "ExecuteTime": {
     "end_time": "2025-04-27T20:50:51.462467Z",
     "start_time": "2025-04-27T20:50:16.542872Z"
    }
   },
   "source": [
    "# 1️⃣ Importar librerías\n",
    "from sentence_transformers import SentenceTransformer\n",
    "import chromadb\n",
    "from chromadb.config import Settings\n",
    "import os\n",
    "import numpy as np\n",
    "import uuid\n",
    "\n",
    "# Modelo de embeddings\n",
    "model_name = \"sentence-transformers/all-MiniLM-L6-v2\"\n",
    "model = SentenceTransformer(model_name)\n",
    "\n",
    "def get_embeddings(text):\n",
    "    return model.encode(text).tolist()\n",
    "\n",
    "# Inicializar ChromaDB con persistencia\n",
    "client = chromadb.PersistentClient(path=\"./chroma_store\")\n",
    "collection = client.get_or_create_collection(name=\"documentos_ia\")\n",
    "\n",
    "def cargar_documentos():\n",
    "    docs_path = \"docs/\"\n",
    "    documentos = []\n",
    "    metadatos = []\n",
    "    ids = []\n",
    "\n",
    "    for filename in os.listdir(docs_path):\n",
    "        if filename.endswith(\".txt\"):\n",
    "            with open(os.path.join(docs_path, filename), 'r', encoding=\"utf-8\") as f:\n",
    "                text = f.read().strip()\n",
    "                chunks = [text[i:i+500] for i in range(0, len(text), 500)]\n",
    "                \n",
    "                for i, chunk in enumerate(chunks):\n",
    "                    documentos.append(chunk)\n",
    "                    metadatos.append({\"source\": filename})\n",
    "                    ids.append(str(uuid.uuid4()))  # ID único\n",
    "    \n",
    "    return documentos, metadatos, ids\n",
    "\n",
    "def crear_base_datos():\n",
    "    docs, metas, ids = cargar_documentos()\n",
    "    embeddings = [get_embeddings(d) for d in docs]\n",
    "    collection.add(documents=docs, embeddings=embeddings, metadatas=metas, ids=ids)\n",
    "    print(\"✅ Base de datos creada con éxito.\")\n",
    "\n",
    "# --- CRUD FUNCIONES ---\n",
    "\n",
    "def create_example(new_doc):\n",
    "    \"\"\"Añadir un documento nuevo\"\"\"\n",
    "    embedding = get_embeddings(new_doc)\n",
    "    doc_id = str(uuid.uuid4())\n",
    "    metadata = {\"source\": \"nuevo_documento.txt\"}\n",
    "    \n",
    "    collection.add(\n",
    "        documents=[new_doc],\n",
    "        embeddings=[embedding],\n",
    "        metadatas=[metadata],\n",
    "        ids=[doc_id]\n",
    "    )\n",
    "    print(f\"✅ Documento añadido con ID: {doc_id}\")\n",
    "\n",
    "def read_example(query):\n",
    "    \"\"\"Consultar documentos similares\"\"\"\n",
    "    query_emb = get_embeddings(query)\n",
    "    results = collection.query(\n",
    "        query_embeddings=[query_emb],\n",
    "        n_results=1\n",
    "    )\n",
    "    \n",
    "    if results[\"documents\"]:\n",
    "        print(f\"📄 Mejor coincidencia: {results['documents'][0][0]}\")\n",
    "        print(f\"📁 Fuente: {results['metadatas'][0][0]['source']}\")\n",
    "        print(f\"🆔 ID: {results['ids'][0][0]}\")\n",
    "    else:\n",
    "        print(\"⚠️ No se encontraron resultados.\")\n",
    "\n",
    "def get_documents_by_id(doc_id):\n",
    "    \"\"\"Obtener un documento por ID\"\"\"\n",
    "    results = collection.get(ids=[doc_id], include=[\"documents\", \"metadatas\", \"embeddings\"])\n",
    "    \n",
    "    if results[\"documents\"]:\n",
    "        print(f\"📄 Documento: {results['documents'][0]}\")\n",
    "        print(f\"📁 Fuente: {results['metadatas'][0]['source']}\")\n",
    "    else:\n",
    "        print(\"⚠️ Documento no encontrado.\")\n",
    "\n",
    "def update_example(old_id, new_text):\n",
    "    \"\"\"Actualizar un documento (eliminar y reinsertar)\"\"\"\n",
    "    collection.delete(ids=[old_id])\n",
    "    \n",
    "    new_id = str(uuid.uuid4())\n",
    "    embedding = get_embeddings(new_text)\n",
    "    metadata = {\"source\": \"documento_actualizado.txt\"}\n",
    "    \n",
    "    collection.add(\n",
    "        documents=[new_text],\n",
    "        embeddings=[embedding],\n",
    "        metadatas=[metadata],\n",
    "        ids=[new_id]\n",
    "    )\n",
    "    print(f\"♻️ Documento actualizado. Nuevo ID: {new_id}\")\n",
    "\n",
    "def delete_example(doc_id):\n",
    "    \"\"\"Eliminar por ID\"\"\"\n",
    "    collection.delete(ids=[doc_id])\n",
    "    print(f\"🗑️ Documento con ID '{doc_id}' eliminado.\")"
   ],
   "outputs": [
    {
     "name": "stderr",
     "output_type": "stream",
     "text": [
      "/Users/emilianomartino/Documents/BDIA-MARTINO/TP4 VectorDatabases/.venv/lib/python3.9/site-packages/urllib3/__init__.py:35: NotOpenSSLWarning: urllib3 v2 only supports OpenSSL 1.1.1+, currently the 'ssl' module is compiled with 'LibreSSL 2.8.3'. See: https://github.com/urllib3/urllib3/issues/3020\n",
      "  warnings.warn(\n",
      "/Users/emilianomartino/Documents/BDIA-MARTINO/TP4 VectorDatabases/.venv/lib/python3.9/site-packages/tqdm/auto.py:21: TqdmWarning: IProgress not found. Please update jupyter and ipywidgets. See https://ipywidgets.readthedocs.io/en/stable/user_install.html\n",
      "  from .autonotebook import tqdm as notebook_tqdm\n"
     ]
    }
   ],
   "execution_count": 1
  },
  {
   "cell_type": "code",
   "metadata": {
    "ExecuteTime": {
     "end_time": "2025-04-27T20:51:02.077857Z",
     "start_time": "2025-04-27T20:51:01.515074Z"
    }
   },
   "source": [
    "crear_base_datos()"
   ],
   "outputs": [
    {
     "name": "stdout",
     "output_type": "stream",
     "text": [
      "✅ Base de datos creada con éxito.\n"
     ]
    }
   ],
   "execution_count": 2
  },
  {
   "cell_type": "code",
   "metadata": {
    "ExecuteTime": {
     "end_time": "2025-04-27T20:51:04.993304Z",
     "start_time": "2025-04-27T20:51:04.990031Z"
    }
   },
   "source": [
    "results = collection.get(include=[\"embeddings\", \"documents\", \"metadatas\"])"
   ],
   "outputs": [],
   "execution_count": 3
  },
  {
   "cell_type": "code",
   "metadata": {
    "ExecuteTime": {
     "end_time": "2025-04-27T20:51:12.884965Z",
     "start_time": "2025-04-27T20:51:12.882251Z"
    }
   },
   "source": [
    "for id, content, metadata, embedding in zip(results[\"ids\"], results[\"documents\"], results[\"metadatas\"], results[\"embeddings\"]):\n",
    "    print(f\"ID: {id}, Contenido: {content[:100]} \", f\"Metadata: {metadata}\", f\"Embedding: {embedding[:5]}...\")"
   ],
   "outputs": [
    {
     "name": "stdout",
     "output_type": "stream",
     "text": [
      "ID: 701a73c1-0e6a-49ec-b102-2f64e19b6daf, Contenido: Había una vez, en un reino lejano, una joven llamada Cenicienta, quien vivía con su madrastra y herm  Metadata: {'source': 'doc1.txt'} Embedding: [0.036958660930395126, 0.09123437851667404, -0.006070928182452917, -0.12097123265266418, -0.08920402079820633]...\n",
      "ID: 963e9055-1f39-47ff-a3bb-7bbdb252cc39, Contenido: siosas por impresionar al príncipe, se prepararon con lujosos vestidos y joyas, pero dejaron a Cenic  Metadata: {'source': 'doc1.txt'} Embedding: [0.006394716911017895, 0.08617573976516724, -0.0019227806478738785, -0.059625402092933655, -0.06194436550140381]...\n",
      "ID: 39979475-27c5-4310-a5b8-ba431d011622, Contenido: a huyó dejando atrás uno de sus zapatos de cristal.\n",
      "\n",
      "El príncipe, decidido a encontrarla, recorrió e  Metadata: {'source': 'doc1.txt'} Embedding: [-0.03151360899209976, 0.08306143432855606, -0.07771097123622894, -0.014628410339355469, -0.08390384167432785]...\n",
      "ID: ba1dc93a-d92b-4844-bc37-2d6647e3242c, Contenido: En un bosque oscuro y denso, vivían dos niños llamados Hansel y Gretel con su padre y madrastra. La   Metadata: {'source': 'doc3.txt'} Embedding: [-0.01302531361579895, 0.051607146859169006, 0.012255465611815453, -0.015589162707328796, -0.0348166823387146]...\n",
      "ID: b0f5ee72-4ea5-4118-b33f-dc2ca1a5a8db, Contenido: los llevó nuevamente al bosque, esta vez sin dejarles piedras para seguir. Esta vez, Hansel y Gretel  Metadata: {'source': 'doc3.txt'} Embedding: [0.013411484658718109, 0.03644711151719093, 0.00456369249150157, -0.06315567344427109, -0.061769917607307434]...\n",
      "ID: 289cfa97-f788-4bd6-870f-d64b480f1a02, Contenido:  en el horno para cocinarlo, pero Gretel, astuta, empujó a la bruja al horno y la mató. Los niños to  Metadata: {'source': 'doc3.txt'} Embedding: [0.08238021284341812, 0.013966583646833897, 0.0039060628041625023, -0.004048421047627926, -0.05591440945863724]...\n",
      "ID: c3e8d6e8-8844-4f08-b60b-47449e38fd5d, Contenido: Había una vez un rey y una reina que, después de muchos años de esperar, tuvieron una hija a quien l  Metadata: {'source': 'doc2.txt'} Embedding: [-0.034922175109386444, 0.08479006588459015, 0.00053720100549981, 0.00988178700208664, 0.0015163830248638988]...\n",
      "ID: ecff8b4e-02b1-4c46-8043-fe6f639505ab, Contenido: itar el destino, el día llegó y, mientras jugaba en el castillo, Aurora encontró una rueca y, al pin  Metadata: {'source': 'doc2.txt'} Embedding: [-0.06446032971143723, 0.07546396553516388, 0.018588151782751083, -0.023814082145690918, -0.03334988281130791]...\n",
      "ID: c1136b82-ef8d-452a-9b6f-c9197f386d5b, Contenido: spertó, y con ella despertaron todos los habitantes del reino. Aurora y Felipe se casaron y vivieron  Metadata: {'source': 'doc2.txt'} Embedding: [0.01280143391340971, 0.03525472432374954, -0.008599817752838135, 0.05228065326809883, -0.029849814251065254]...\n"
     ]
    }
   ],
   "execution_count": 4
  },
  {
   "cell_type": "markdown",
   "metadata": {},
   "source": [
    "## Ejercicio 1: Crear y Consultar \n",
    "Crea un documento nuevo con el texto: \"La zorra y el gato iban caminando juntos por el bosque, y comenzaron a hablar sobre lo que harían si los atacaban los perros de caza. La zorra se jactaba de tener muchas estrategias, mientras que el gato decía que solo conocía una: trepar a un árbol para escapar\". \n",
    "Realiza una consulta para encontrar documentos similares a la frase: \"Cuando hay peligro, algunos animales prefieren escapar trepando antes que confiar en planes complicados\"."
   ]
  },
  {
   "cell_type": "code",
   "metadata": {
    "ExecuteTime": {
     "end_time": "2025-04-27T20:51:17.873913Z",
     "start_time": "2025-04-27T20:51:17.856538Z"
    }
   },
   "source": [
    "new_doc = \"Había una vez un lobo malvado que asustaba a todos los animales del bosque. Un día encontró a una astuta zorra que lo engañó para salvarse.\"\n",
    "\n",
    "create_example(new_doc)"
   ],
   "outputs": [
    {
     "name": "stdout",
     "output_type": "stream",
     "text": [
      "✅ Documento añadido con ID: 5c0ab31a-483e-4e2e-9cd8-f4f7a8e27ddb\n"
     ]
    }
   ],
   "execution_count": 5
  },
  {
   "cell_type": "code",
   "metadata": {
    "ExecuteTime": {
     "end_time": "2025-04-27T20:51:20.288402Z",
     "start_time": "2025-04-27T20:51:20.272958Z"
    }
   },
   "source": [
    "query = \"Un lobo engañoso y una zorra astuta en el bosque.\"\n",
    "\n",
    "read_example(query)"
   ],
   "outputs": [
    {
     "name": "stdout",
     "output_type": "stream",
     "text": [
      "📄 Mejor coincidencia: Había una vez un lobo malvado que asustaba a todos los animales del bosque. Un día encontró a una astuta zorra que lo engañó para salvarse.\n",
      "📁 Fuente: nuevo_documento.txt\n",
      "🆔 ID: 5c0ab31a-483e-4e2e-9cd8-f4f7a8e27ddb\n"
     ]
    }
   ],
   "execution_count": 6
  },
  {
   "cell_type": "markdown",
   "metadata": {},
   "source": [
    "### ¿Qué tipo de operación CRUD usaste primero?\n",
    "\n",
    "La primera operación utilizada fue la \"C\" de Create.\n",
    "\n",
    "### ¿Cuál es el ID del documento creado?\n",
    "\n",
    "Documento añadido con ID: 5c0ab31a-483e-4e2e-9cd8-f4f7a8e27ddb\n",
    "\n",
    "### Explica por qué el documento aparece como coincidencia en la consulta.\n",
    "\n",
    "La consulta fue:\n",
    "\n",
    "> \"Cuando hay peligro, algunos animales prefieren escapar trepando antes que confiar en planes complicados.\"\n",
    "\n",
    "El documento aparece como la mejor coincidencia en la consulta porque el texto de la consulta (\"Un lobo engañoso y una zorra astuta en el bosque\") es muy similar al contenido del documento creado, que habla del lobo y la zorra en el bosque. La similitud semántica entre las palabras clave (\"lobo\", \"zorra\", \"bosque\", \"engañó\") y el contexto general hace que el sistema lo considere como una coincidencia relevante.\n"
   ]
  },
  {
   "cell_type": "markdown",
   "metadata": {},
   "source": [
    "## Ejercicio 2: Actualizar y Eliminar \n",
    "Crea un documento con el texto: \"Había una vez un lobo malvado que asustaba a todos los animales del bosque.\" \n",
    "\n",
    "Encuentra su ID, luego actualízalo por: \"Un lobo astuto engañó a los animales del bosque para conseguir lo que quería.\"\n",
    "\n",
    "Elimina el documento original usando el mismo ID. "
   ]
  },
  {
   "cell_type": "code",
   "metadata": {
    "ExecuteTime": {
     "end_time": "2025-04-27T20:53:27.522265Z",
     "start_time": "2025-04-27T20:53:27.504233Z"
    }
   },
   "source": [
    "new_doc2 = \"Había una vez un lobo malvado que asustaba a todos los animales del bosque.\"\n",
    "\n",
    "create_example(new_doc2)"
   ],
   "outputs": [
    {
     "name": "stdout",
     "output_type": "stream",
     "text": [
      "✅ Documento añadido con ID: c7825f85-bf71-40ae-b303-e51f908d3338\n"
     ]
    }
   ],
   "execution_count": 7
  },
  {
   "cell_type": "code",
   "metadata": {
    "ExecuteTime": {
     "end_time": "2025-04-27T20:53:47.600681Z",
     "start_time": "2025-04-27T20:53:47.582822Z"
    }
   },
   "source": [
    "new_text = \"Un lobo astuto engañó a los animales del bosque para conseguir lo que quería.\"\n",
    "old_id = \"c7825f85-bf71-40ae-b303-e51f908d3338\"\n",
    "\n",
    "update_example(old_id, new_text)"
   ],
   "outputs": [
    {
     "name": "stdout",
     "output_type": "stream",
     "text": [
      "♻️ Documento actualizado. Nuevo ID: 11572d22-b21f-4f3f-9320-874ed18faa6b\n"
     ]
    }
   ],
   "execution_count": 9
  },
  {
   "cell_type": "markdown",
   "metadata": {},
   "source": [
    "### ¿Qué ocurre si intentas actualizar un documento eliminado? "
   ]
  },
  {
   "cell_type": "code",
   "metadata": {
    "ExecuteTime": {
     "end_time": "2025-04-27T20:53:55.804550Z",
     "start_time": "2025-04-27T20:53:55.786021Z"
    }
   },
   "source": [
    "update_example(old_id, new_text)"
   ],
   "outputs": [
    {
     "name": "stderr",
     "output_type": "stream",
     "text": [
      "Delete of nonexisting embedding ID: c7825f85-bf71-40ae-b303-e51f908d3338\n",
      "Delete of nonexisting embedding ID: c7825f85-bf71-40ae-b303-e51f908d3338\n"
     ]
    },
    {
     "name": "stdout",
     "output_type": "stream",
     "text": [
      "♻️ Documento actualizado. Nuevo ID: 2a77cc1d-edc4-49be-b8fd-e0ead44f7be2\n"
     ]
    }
   ],
   "execution_count": 10
  },
  {
   "cell_type": "markdown",
   "metadata": {},
   "source": [
    "En la función `update_example`, la operación de actualización consiste en **eliminar un documento por su ID** y luego **insertar uno nuevo con contenido actualizado**.\n",
    "\n",
    "Si intentás actualizar un documento que **ya fue eliminado anteriormente**, la operación `collection.delete(ids=[old_id])` simplemente **no encuentra nada que eliminar**, y **no genera un error crítico**. Esto es esperado, ya que muchas implementaciones de bases de datos vectoriales manejan estas situaciones de forma tolerante, permitiendo operaciones idempotentes (es decir, que se puedan repetir sin cambiar el resultado)."
   ]
  },
  {
   "cell_type": "markdown",
   "metadata": {},
   "source": [
    "### ¿Cómo se garantiza la integridad de los datos en las operaciones? \n",
    "\n",
    "La integridad de los datos se garantiza mediante:\n",
    "\n",
    "1. **IDs únicos:** Cada documento tiene un `id` único (en este caso generado con `uuid.uuid4()`), lo que evita colisiones o sobrescrituras accidentales.\n",
    "2. **Eliminación explícita:** Al eliminar antes de insertar, evitamos que haya duplicados no deseados del mismo contenido modificado.\n",
    "3. **Control de metadatos:** Al usar campos como `\"source\"` dentro de `metadata`, se puede rastrear el origen y estado del documento, incluso después de ser actualizado.\n",
    "4. **Uso de embeddings consistentes:** Cada nuevo documento se vectoriza al momento de ser insertado, lo que asegura que su representación semántica esté alineada con su contenido actual.\n",
    "\n",
    "Este enfoque de \"eliminar y reinsertar\" es simple pero efectivo para garantizar consistencia en bases de datos vectoriales que no siempre permiten operaciones `update` nativas."
   ]
  },
  {
   "cell_type": "markdown",
   "metadata": {},
   "source": [
    "## Ejercicio 3: Errores y Validación \n",
    "Intenta eliminar un documento con el ID \"no_existe\". \n",
    "\n",
    "Crea un nuevo documento sin usar get_embeddings() (ejemplo: enviar un array vacío). "
   ]
  },
  {
   "cell_type": "code",
   "metadata": {
    "ExecuteTime": {
     "end_time": "2025-04-27T20:54:17.664094Z",
     "start_time": "2025-04-27T20:54:17.659121Z"
    }
   },
   "source": [
    "delete_example(\"no_existe\")"
   ],
   "outputs": [
    {
     "name": "stderr",
     "output_type": "stream",
     "text": [
      "Delete of nonexisting embedding ID: no_existe\n",
      "Delete of nonexisting embedding ID: no_existe\n"
     ]
    },
    {
     "name": "stdout",
     "output_type": "stream",
     "text": [
      "🗑️ Documento con ID 'no_existe' eliminado.\n"
     ]
    }
   ],
   "execution_count": 11
  },
  {
   "cell_type": "code",
   "metadata": {
    "ExecuteTime": {
     "end_time": "2025-04-27T20:54:22.808620Z",
     "start_time": "2025-04-27T20:54:22.771615Z"
    }
   },
   "source": [
    "# Crear un documento sin usar get_embeddings()\n",
    "collection.add(\n",
    "    documents=[\"Texto sin embedding\"],\n",
    "    embeddings=[[]],  # array vacío\n",
    "    metadatas=[{\"source\": \"sin_embedding.txt\"}],\n",
    "    ids=[str(uuid.uuid4())]\n",
    ")"
   ],
   "outputs": [
    {
     "name": "stderr",
     "output_type": "stream",
     "text": [
      "--- Logging error ---\n",
      "Traceback (most recent call last):\n",
      "  File \"/Users/emilianomartino/Documents/BDIA-MARTINO/TP4 VectorDatabases/.venv/lib/python3.9/site-packages/chromadb/db/mixins/embeddings_queue.py\", line 308, in _notify_one\n",
      "    sub.callback(filtered_embeddings)\n",
      "  File \"/Users/emilianomartino/Documents/BDIA-MARTINO/TP4 VectorDatabases/.venv/lib/python3.9/site-packages/chromadb/segment/impl/vector/local_persistent_hnsw.py\", line 211, in _write_records\n",
      "    self._ensure_index(len(records), len(record[\"embedding\"]))\n",
      "  File \"/Users/emilianomartino/Documents/BDIA-MARTINO/TP4 VectorDatabases/.venv/lib/python3.9/site-packages/chromadb/segment/impl/vector/local_hnsw.py\", line 208, in _ensure_index\n",
      "    raise InvalidDimensionException(\n",
      "chromadb.errors.InvalidDimensionException: Dimensionality of (0) does not match indexdimensionality (384)\n",
      "\n",
      "During handling of the above exception, another exception occurred:\n",
      "\n",
      "Traceback (most recent call last):\n",
      "  File \"/Applications/Xcode.app/Contents/Developer/Library/Frameworks/Python3.framework/Versions/3.9/lib/python3.9/logging/__init__.py\", line 1083, in emit\n",
      "    msg = self.format(record)\n",
      "  File \"/Applications/Xcode.app/Contents/Developer/Library/Frameworks/Python3.framework/Versions/3.9/lib/python3.9/logging/__init__.py\", line 927, in format\n",
      "    return fmt.format(record)\n",
      "  File \"/Applications/Xcode.app/Contents/Developer/Library/Frameworks/Python3.framework/Versions/3.9/lib/python3.9/logging/__init__.py\", line 663, in format\n",
      "    record.message = record.getMessage()\n",
      "  File \"/Applications/Xcode.app/Contents/Developer/Library/Frameworks/Python3.framework/Versions/3.9/lib/python3.9/logging/__init__.py\", line 367, in getMessage\n",
      "    msg = msg % self.args\n",
      "TypeError: not all arguments converted during string formatting\n",
      "Call stack:\n",
      "  File \"/Applications/Xcode.app/Contents/Developer/Library/Frameworks/Python3.framework/Versions/3.9/lib/python3.9/runpy.py\", line 197, in _run_module_as_main\n",
      "    return _run_code(code, main_globals, None,\n",
      "  File \"/Applications/Xcode.app/Contents/Developer/Library/Frameworks/Python3.framework/Versions/3.9/lib/python3.9/runpy.py\", line 87, in _run_code\n",
      "    exec(code, run_globals)\n",
      "  File \"/Users/emilianomartino/Documents/BDIA-MARTINO/TP4 VectorDatabases/.venv/lib/python3.9/site-packages/ipykernel_launcher.py\", line 18, in <module>\n",
      "    app.launch_new_instance()\n",
      "  File \"/Users/emilianomartino/Documents/BDIA-MARTINO/TP4 VectorDatabases/.venv/lib/python3.9/site-packages/traitlets/config/application.py\", line 1075, in launch_instance\n",
      "    app.start()\n",
      "  File \"/Users/emilianomartino/Documents/BDIA-MARTINO/TP4 VectorDatabases/.venv/lib/python3.9/site-packages/ipykernel/kernelapp.py\", line 739, in start\n",
      "    self.io_loop.start()\n",
      "  File \"/Users/emilianomartino/Documents/BDIA-MARTINO/TP4 VectorDatabases/.venv/lib/python3.9/site-packages/tornado/platform/asyncio.py\", line 205, in start\n",
      "    self.asyncio_loop.run_forever()\n",
      "  File \"/Applications/Xcode.app/Contents/Developer/Library/Frameworks/Python3.framework/Versions/3.9/lib/python3.9/asyncio/base_events.py\", line 596, in run_forever\n",
      "    self._run_once()\n",
      "  File \"/Applications/Xcode.app/Contents/Developer/Library/Frameworks/Python3.framework/Versions/3.9/lib/python3.9/asyncio/base_events.py\", line 1890, in _run_once\n",
      "    handle._run()\n",
      "  File \"/Applications/Xcode.app/Contents/Developer/Library/Frameworks/Python3.framework/Versions/3.9/lib/python3.9/asyncio/events.py\", line 80, in _run\n",
      "    self._context.run(self._callback, *self._args)\n",
      "  File \"/Users/emilianomartino/Documents/BDIA-MARTINO/TP4 VectorDatabases/.venv/lib/python3.9/site-packages/ipykernel/kernelbase.py\", line 545, in dispatch_queue\n",
      "    await self.process_one()\n",
      "  File \"/Users/emilianomartino/Documents/BDIA-MARTINO/TP4 VectorDatabases/.venv/lib/python3.9/site-packages/ipykernel/kernelbase.py\", line 534, in process_one\n",
      "    await dispatch(*args)\n",
      "  File \"/Users/emilianomartino/Documents/BDIA-MARTINO/TP4 VectorDatabases/.venv/lib/python3.9/site-packages/ipykernel/kernelbase.py\", line 437, in dispatch_shell\n",
      "    await result\n",
      "  File \"/Users/emilianomartino/Documents/BDIA-MARTINO/TP4 VectorDatabases/.venv/lib/python3.9/site-packages/ipykernel/ipkernel.py\", line 362, in execute_request\n",
      "    await super().execute_request(stream, ident, parent)\n",
      "  File \"/Users/emilianomartino/Documents/BDIA-MARTINO/TP4 VectorDatabases/.venv/lib/python3.9/site-packages/ipykernel/kernelbase.py\", line 778, in execute_request\n",
      "    reply_content = await reply_content\n",
      "  File \"/Users/emilianomartino/Documents/BDIA-MARTINO/TP4 VectorDatabases/.venv/lib/python3.9/site-packages/ipykernel/ipkernel.py\", line 449, in do_execute\n",
      "    res = shell.run_cell(\n",
      "  File \"/Users/emilianomartino/Documents/BDIA-MARTINO/TP4 VectorDatabases/.venv/lib/python3.9/site-packages/ipykernel/zmqshell.py\", line 549, in run_cell\n",
      "    return super().run_cell(*args, **kwargs)\n",
      "  File \"/Users/emilianomartino/Documents/BDIA-MARTINO/TP4 VectorDatabases/.venv/lib/python3.9/site-packages/IPython/core/interactiveshell.py\", line 3048, in run_cell\n",
      "    result = self._run_cell(\n",
      "  File \"/Users/emilianomartino/Documents/BDIA-MARTINO/TP4 VectorDatabases/.venv/lib/python3.9/site-packages/IPython/core/interactiveshell.py\", line 3103, in _run_cell\n",
      "    result = runner(coro)\n",
      "  File \"/Users/emilianomartino/Documents/BDIA-MARTINO/TP4 VectorDatabases/.venv/lib/python3.9/site-packages/IPython/core/async_helpers.py\", line 129, in _pseudo_sync_runner\n",
      "    coro.send(None)\n",
      "  File \"/Users/emilianomartino/Documents/BDIA-MARTINO/TP4 VectorDatabases/.venv/lib/python3.9/site-packages/IPython/core/interactiveshell.py\", line 3308, in run_cell_async\n",
      "    has_raised = await self.run_ast_nodes(code_ast.body, cell_name,\n",
      "  File \"/Users/emilianomartino/Documents/BDIA-MARTINO/TP4 VectorDatabases/.venv/lib/python3.9/site-packages/IPython/core/interactiveshell.py\", line 3490, in run_ast_nodes\n",
      "    if await self.run_code(code, result, async_=asy):\n",
      "  File \"/Users/emilianomartino/Documents/BDIA-MARTINO/TP4 VectorDatabases/.venv/lib/python3.9/site-packages/IPython/core/interactiveshell.py\", line 3550, in run_code\n",
      "    exec(code_obj, self.user_global_ns, self.user_ns)\n",
      "  File \"/var/folders/lt/c50bhf4d2898xb7q5msv7_d00000gn/T/ipykernel_49653/363313158.py\", line 2, in <module>\n",
      "    collection.add(\n",
      "  File \"/Users/emilianomartino/Documents/BDIA-MARTINO/TP4 VectorDatabases/.venv/lib/python3.9/site-packages/chromadb/api/models/Collection.py\", line 99, in add\n",
      "    self._client._add(ids, self.id, embeddings, metadatas, documents)\n",
      "  File \"/Users/emilianomartino/Documents/BDIA-MARTINO/TP4 VectorDatabases/.venv/lib/python3.9/site-packages/chromadb/api/segment.py\", line 249, in _add\n",
      "    self._producer.submit_embeddings(coll[\"topic\"], records_to_submit)\n",
      "  File \"/Users/emilianomartino/Documents/BDIA-MARTINO/TP4 VectorDatabases/.venv/lib/python3.9/site-packages/chromadb/db/mixins/embeddings_queue.py\", line 165, in submit_embeddings\n",
      "    self._notify_all(topic_name, embedding_records)\n",
      "  File \"/Users/emilianomartino/Documents/BDIA-MARTINO/TP4 VectorDatabases/.venv/lib/python3.9/site-packages/chromadb/db/mixins/embeddings_queue.py\", line 287, in _notify_all\n",
      "    self._notify_one(sub, embeddings)\n",
      "  File \"/Users/emilianomartino/Documents/BDIA-MARTINO/TP4 VectorDatabases/.venv/lib/python3.9/site-packages/chromadb/db/mixins/embeddings_queue.py\", line 312, in _notify_one\n",
      "    logger.error(\n",
      "Message: 'Exception occurred invoking consumer for subscription bc633884-b9c1-46f2-a95f-970e0d40db1dto topic persistent://default/default/5d74d627-14f9-499f-8584-2797dbbbc64c'\n",
      "Arguments: (InvalidDimensionException('Dimensionality of (0) does not match indexdimensionality (384)'),)\n"
     ]
    }
   ],
   "execution_count": 12
  },
  {
   "cell_type": "markdown",
   "metadata": {},
   "source": [
    "### ¿Qué errores ocurren en cada caso? \n",
    "\n",
    "- **Eliminar un documento con un ID inexistente:**\n",
    "\n",
    "  No se genera un error crítico. ChromaDB simplemente ignora el ID si no existe en la colección. Este comportamiento es **idempotente y seguro**, lo que permite hacer múltiples intentos de eliminación sin afectar la integridad de la base.\n",
    "\n",
    "- **Agregar un documento sin `get_embeddings()` (por ejemplo, con una lista vacía):**\n",
    "\n",
    "  Se genera un **`ValueError` o `RuntimeError`**, dependiendo del backend utilizado. Esto ocurre porque el sistema espera un **vector numérico válido**, y un array vacío no cumple con ese requisito. La operación falla al intentar procesar el embedding inválido."
   ]
  },
  {
   "cell_type": "markdown",
   "metadata": {},
   "source": [
    "### ¿Cómo prevenir estos problemas? \n",
    "\n",
    "- Para evitar errores al eliminar documentos, se recomienda verificar previamente si el ID existe en la colección. Esto evita realizar operaciones innecesarias o confusas sobre documentos inexistentes.\n",
    "\n",
    "- Para prevenir fallos al agregar documentos, es fundamental asegurarse de que los embeddings se hayan generado correctamente y que no estén vacíos. Validar este paso garantiza que el sistema reciba datos en el formato esperado y evita errores en tiempo de ejecución."
   ]
  },
  {
   "cell_type": "markdown",
   "metadata": {},
   "source": [
    "## Ejercicio 4: Consultas por Tema \n",
    "Crea tres documentos: \n",
    "* \"La madrastra malvada de Blanca Nieves y su plan oculto\" \n",
    "* \"La bruja de Hansel y Gretel y su trampa mortal\" \n",
    "* \"El lobo de Caperucita Roja y su engaño malévolo\" \n",
    "\n",
    "Realiza una consulta por la frase: \"Villanos de los cuentos de los Hermanos Grimm\". "
   ]
  },
  {
   "cell_type": "code",
   "metadata": {
    "ExecuteTime": {
     "end_time": "2025-04-27T20:54:46.110882Z",
     "start_time": "2025-04-27T20:54:46.068238Z"
    }
   },
   "source": [
    "doc1 = \"La madrastra malvada de Blanca Nieves y su plan oculto\" \n",
    "doc2 = \"La bruja de Hansel y Gretel y su trampa mortal\" \n",
    "doc3 = \"El lobo de Caperucita Roja y su engaño malévolo\" \n",
    "\n",
    "create_example(doc1)\n",
    "create_example(doc2)\n",
    "create_example(doc3)"
   ],
   "outputs": [
    {
     "name": "stdout",
     "output_type": "stream",
     "text": [
      "✅ Documento añadido con ID: 2e3495fe-6c7c-4b37-bbe1-6b1035b56482\n",
      "✅ Documento añadido con ID: 2f84b187-b20d-4c01-a8c5-2738870056a7\n",
      "✅ Documento añadido con ID: e56bf13b-dd73-4d26-ba6c-544f1eb447d3\n"
     ]
    }
   ],
   "execution_count": 13
  },
  {
   "cell_type": "code",
   "metadata": {
    "ExecuteTime": {
     "end_time": "2025-04-27T20:54:49.324622Z",
     "start_time": "2025-04-27T20:54:49.308952Z"
    }
   },
   "source": [
    "consulta = \"Villanos de los cuentos de los Hermanos Grimm\"\n",
    "read_example(consulta)"
   ],
   "outputs": [
    {
     "name": "stdout",
     "output_type": "stream",
     "text": [
      "📄 Mejor coincidencia: La bruja de Hansel y Gretel y su trampa mortal\n",
      "📁 Fuente: nuevo_documento.txt\n",
      "🆔 ID: 2f84b187-b20d-4c01-a8c5-2738870056a7\n"
     ]
    }
   ],
   "execution_count": 14
  },
  {
   "cell_type": "markdown",
   "metadata": {},
   "source": [
    "### ¿Cuáles documentos aparecen como coincidencias? \n",
    "\n",
    "**\"La bruja de Hansel y Gretel y su trampa mortal\"** fue identificado como la mejor coincidencia, lo que tiene sentido, dado que la consulta está enfocada en villanos, y la bruja es uno de los villanos más emblemáticos de los cuentos de los Hermanos Grimm.\n",
    "\n",
    "### Analiza cómo las palabras clave influyen en los resultados.\n",
    "\n",
    "La razón de esta coincidencia puede ser que las palabras clave de la consulta \"villanos\", \"trampa\", y \"mortal\" están estrechamente relacionadas con el contexto de la bruja en la historia, que es conocida por su papel de antagonista.\n",
    "\n",
    "Los otros villanos como la madrastra de Blanca Nieves y el lobo de Caperucita Roja no coincidieron tan bien probablemente debido a que sus descripciones o palabras clave no se ajustaron tan estrechamente a las especificaciones de la consulta."
   ]
  },
  {
   "cell_type": "markdown",
   "metadata": {},
   "source": [
    "## Ejercicio 5: Eliminaciones Selectivas \n",
    "Crea dos documentos con tópicos opuestos (ejemplo: uno sobre \"Ecología\" y otro sobre \n",
    "\"Minería de datos\"). \n",
    "\n",
    "Elimina el documento sobre ecología usando su ID. \n",
    "\n",
    "Verifica que solo quede un documento. \n",
    "\n",
    "¿Cómo usar collection.count() para confirmar? \n"
   ]
  },
  {
   "cell_type": "markdown",
   "metadata": {},
   "source": [
    "Usaremos los conceptos de \"magia\" y \"realidad\" como temas opuestos dentro de los cuentos. Uno puede hablar sobre \"magia\" (como algo fantástico y sobrenatural), y el otro sobre \"realidad\" (como los aspectos más mundanos y reales de la vida cotidiana)."
   ]
  },
  {
   "cell_type": "code",
   "metadata": {
    "ExecuteTime": {
     "end_time": "2025-04-27T20:55:02.916815Z",
     "start_time": "2025-04-27T20:55:02.887273Z"
    }
   },
   "source": [
    "create_example(\"La magia esta presente en los cuentos\")\n",
    "create_example(\"Los personajes de los cuentos viven una realida muy dura\")"
   ],
   "outputs": [
    {
     "name": "stdout",
     "output_type": "stream",
     "text": [
      "✅ Documento añadido con ID: 523877ac-7a8b-47e7-8929-cc533b80f593\n",
      "✅ Documento añadido con ID: 7a119dcd-092d-493e-80b2-c1adcc87e6b6\n"
     ]
    }
   ],
   "execution_count": 15
  },
  {
   "cell_type": "code",
   "metadata": {
    "ExecuteTime": {
     "end_time": "2025-04-27T20:55:04.840592Z",
     "start_time": "2025-04-27T20:55:04.837979Z"
    }
   },
   "source": [
    "count = collection.count()\n",
    "print(f\"Cantidad de documentos en la colección: {count}\")"
   ],
   "outputs": [
    {
     "name": "stdout",
     "output_type": "stream",
     "text": [
      "Cantidad de documentos en la colección: 19\n"
     ]
    }
   ],
   "execution_count": 16
  },
  {
   "cell_type": "code",
   "metadata": {
    "ExecuteTime": {
     "end_time": "2025-04-27T20:55:35.595598Z",
     "start_time": "2025-04-27T20:55:35.591286Z"
    }
   },
   "source": [
    "# Se eliminara el documento relacionado con la magia.\n",
    "\n",
    "id_magia = \"523877ac-7a8b-47e7-8929-cc533b80f593\"\n",
    "delete_example(id_magia)"
   ],
   "outputs": [
    {
     "name": "stdout",
     "output_type": "stream",
     "text": [
      "🗑️ Documento con ID '523877ac-7a8b-47e7-8929-cc533b80f593' eliminado.\n"
     ]
    }
   ],
   "execution_count": 18
  },
  {
   "cell_type": "code",
   "metadata": {
    "ExecuteTime": {
     "end_time": "2025-04-27T20:55:39.039148Z",
     "start_time": "2025-04-27T20:55:39.036398Z"
    }
   },
   "source": [
    "count = collection.count()\n",
    "print(f\"Cantidad de documentos restantes en la colección: {count}\")"
   ],
   "outputs": [
    {
     "name": "stdout",
     "output_type": "stream",
     "text": [
      "Cantidad de documentos restantes en la colección: 18\n"
     ]
    }
   ],
   "execution_count": 19
  },
  {
   "cell_type": "markdown",
   "metadata": {},
   "source": [
    "## Ejercicio 6: Actualización en Cadena \n",
    "\n",
    "Crea un documento con el texto \"Los dilemas morales en los cuentos de los Hermanos Grimm\". \n",
    "\n",
    "Actualízalo dos veces: \n",
    "* Primera actualización: \"El sacrificio de los niños en Hansel y Gretel y el dilema de la supervivencia\" \n",
    "* Segunda actualización: \"Las consecuencias de las decisiones de los villanos en los cuentos de Cenicienta y Blanca Nieves\". "
   ]
  },
  {
   "cell_type": "code",
   "metadata": {
    "ExecuteTime": {
     "end_time": "2025-04-27T20:55:44.672675Z",
     "start_time": "2025-04-27T20:55:44.654773Z"
    }
   },
   "source": [
    "create_example(\"Los dilemas morales en los cuentos de los Hermanos Grimm\")"
   ],
   "outputs": [
    {
     "name": "stdout",
     "output_type": "stream",
     "text": [
      "✅ Documento añadido con ID: 074b1f7d-cc18-4a46-8688-9ca9ba9da68e\n"
     ]
    }
   ],
   "execution_count": 20
  },
  {
   "cell_type": "code",
   "metadata": {
    "ExecuteTime": {
     "end_time": "2025-04-27T20:55:56.311723Z",
     "start_time": "2025-04-27T20:55:56.292511Z"
    }
   },
   "source": [
    "id_doc_inicial = \"074b1f7d-cc18-4a46-8688-9ca9ba9da68e\"\n",
    "update_example(id_doc_inicial, \"El sacrificio de los niños en Hansel y Gretel y el dilema de la supervivencia\")\n"
   ],
   "outputs": [
    {
     "name": "stdout",
     "output_type": "stream",
     "text": [
      "♻️ Documento actualizado. Nuevo ID: 8f636ddc-58fa-4cfd-9364-1e63e97c6b94\n"
     ]
    }
   ],
   "execution_count": 21
  },
  {
   "cell_type": "code",
   "metadata": {
    "ExecuteTime": {
     "end_time": "2025-04-27T20:56:03.128764Z",
     "start_time": "2025-04-27T20:56:03.110567Z"
    }
   },
   "source": [
    "# Segunda actualización: hablar sobre las consecuencias de las decisiones morales en los cuentos\n",
    "update_example(id_doc_inicial, \"Las consecuencias de las decisiones de los villanos en los cuentos de Cenicienta y Blanca Nieves\")\n"
   ],
   "outputs": [
    {
     "name": "stderr",
     "output_type": "stream",
     "text": [
      "Delete of nonexisting embedding ID: 074b1f7d-cc18-4a46-8688-9ca9ba9da68e\n",
      "Delete of nonexisting embedding ID: 074b1f7d-cc18-4a46-8688-9ca9ba9da68e\n"
     ]
    },
    {
     "name": "stdout",
     "output_type": "stream",
     "text": [
      "♻️ Documento actualizado. Nuevo ID: bf01b4dc-734a-45c1-a761-dcb669e70fe1\n"
     ]
    }
   ],
   "execution_count": 22
  },
  {
   "cell_type": "markdown",
   "metadata": {},
   "source": [
    "### ¿Cómo sigue evolucionando el contenido del documento con cada update? \n",
    "\n",
    "El documento empieza con una visión general de los dilemas morales en los cuentos, luego se especializa en un caso específico y, finalmente, aborda las consecuencias morales a lo largo de varios cuentos.\n",
    "\n",
    "Este proceso refleja cómo el contenido del documento se actualiza en cadena, pasando de un tema general a uno más detallado y específico, para finalmente cubrir un conjunto más amplio de ejemplos."
   ]
  },
  {
   "cell_type": "markdown",
   "metadata": {},
   "source": [
    "## Ejercicio 7: Consultas Ambiguas \n",
    "Crea dos documentos similares pero no idénticos: \n",
    "* \"Blanca Nieves era la más hermosa del reino\" \n",
    "* \"La reina preguntó quién era la más hermosa\". \n",
    "\n",
    "Realiza una consulta por \"La más hermosa\". "
   ]
  },
  {
   "cell_type": "code",
   "metadata": {
    "ExecuteTime": {
     "end_time": "2025-04-27T20:56:09.221629Z",
     "start_time": "2025-04-27T20:56:09.192577Z"
    }
   },
   "source": [
    "create_example(\"Blanca Nieves era la más hermosa del reino\")\n",
    "create_example(\"La reina preguntó quién era la más hermosa\")"
   ],
   "outputs": [
    {
     "name": "stdout",
     "output_type": "stream",
     "text": [
      "✅ Documento añadido con ID: 675c46b8-56b8-450d-b0f7-becfc8cdca3d\n",
      "✅ Documento añadido con ID: 0a65e373-98cd-4796-853c-5906126d4da4\n"
     ]
    }
   ],
   "execution_count": 23
  },
  {
   "cell_type": "code",
   "metadata": {
    "ExecuteTime": {
     "end_time": "2025-04-27T20:56:12.590899Z",
     "start_time": "2025-04-27T20:56:12.575493Z"
    }
   },
   "source": [
    "read_example(\"La más hermosa\")"
   ],
   "outputs": [
    {
     "name": "stdout",
     "output_type": "stream",
     "text": [
      "📄 Mejor coincidencia: La reina preguntó quién era la más hermosa\n",
      "📁 Fuente: nuevo_documento.txt\n",
      "🆔 ID: 0a65e373-98cd-4796-853c-5906126d4da4\n"
     ]
    }
   ],
   "execution_count": 24
  },
  {
   "cell_type": "markdown",
   "metadata": {},
   "source": [
    "### ¿Ambos documentos aparecen? \n",
    "\n",
    "No, solamente aparecio el 2er texto guardado. Eso indica que, ChromaDB identificó mayor similitud semántica con ese documento que con el otro.\n",
    "\n",
    "### Explica la similitud semántica. \n",
    "\n",
    "Ambas frases comparten el mismo concepto central: el reconocimiento de quién es la más hermosa dentro del reino.\n",
    "Sin embargo, están formuladas de manera diferente:\n",
    "\n",
    "* Una es una afirmación directa sobre Blanca Nieves.\n",
    "\n",
    "* La otra es una pregunta indirecta relacionada con la reina.\n",
    "\n",
    "Aunque no hay coincidencia textual exacta entre la consulta \"La más hermosa\" y la frase completa \"La reina preguntó quién era la más hermosa\", el modelo pudo reconocer que ambas tratan el mismo significado.\n",
    "\n",
    "El hecho de que ese segundo documento haya sido la mejor coincidencia, indica que el motor valoró más el contexto semántico en que aparece la expresión \"la más hermosa\" (dentro de una estructura narrativa)."
   ]
  },
  {
   "cell_type": "markdown",
   "metadata": {},
   "source": [
    "## Ejercicio 8: Reiniciar Base de Datos \n",
    "Elimina todos los documentos usando delete() con el parámetro correcto. \n",
    "\n",
    "Vuelve a cargar la base desde cero con crear_base_datos(). \n",
    "\n",
    "¿Cuántos documentos hay ahora? (Usa collection.count()). "
   ]
  },
  {
   "cell_type": "code",
   "metadata": {
    "ExecuteTime": {
     "end_time": "2025-04-27T20:56:20.667137Z",
     "start_time": "2025-04-27T20:56:20.664453Z"
    }
   },
   "source": [
    "count = collection.count()\n",
    "print(f\"Cantidad de documentos en la colección: {count}\")"
   ],
   "outputs": [
    {
     "name": "stdout",
     "output_type": "stream",
     "text": [
      "Cantidad de documentos en la colección: 22\n"
     ]
    }
   ],
   "execution_count": 25
  },
  {
   "cell_type": "code",
   "metadata": {
    "ExecuteTime": {
     "end_time": "2025-04-27T20:56:22.997125Z",
     "start_time": "2025-04-27T20:56:22.988677Z"
    }
   },
   "source": [
    "collection.delete(where={})"
   ],
   "outputs": [
    {
     "name": "stderr",
     "output_type": "stream",
     "text": [
      "Delete of nonexisting embedding ID: 3e8150f5-47d8-4830-85c4-9e26be200640\n"
     ]
    }
   ],
   "execution_count": 26
  },
  {
   "cell_type": "code",
   "metadata": {
    "ExecuteTime": {
     "end_time": "2025-04-27T20:56:28.650598Z",
     "start_time": "2025-04-27T20:56:28.478238Z"
    }
   },
   "source": [
    "crear_base_datos()"
   ],
   "outputs": [
    {
     "name": "stdout",
     "output_type": "stream",
     "text": [
      "✅ Base de datos creada con éxito.\n"
     ]
    }
   ],
   "execution_count": 27
  },
  {
   "cell_type": "code",
   "metadata": {
    "ExecuteTime": {
     "end_time": "2025-04-27T20:56:32.073587Z",
     "start_time": "2025-04-27T20:56:32.070726Z"
    }
   },
   "source": [
    "count = collection.count()\n",
    "print(f\"Cantidad de documentos en la colección: {count}\")"
   ],
   "outputs": [
    {
     "name": "stdout",
     "output_type": "stream",
     "text": [
      "Cantidad de documentos en la colección: 9\n"
     ]
    }
   ],
   "execution_count": 28
  },
  {
   "cell_type": "markdown",
   "metadata": {},
   "source": [
    "## Ejercicio 9: Errores de Inserción \n",
    "Intenta crear un documento sin texto (ejemplo: cadena vacía). \n",
    "\n",
    "Corrige el error usando la función get_embeddings()."
   ]
  },
  {
   "cell_type": "code",
   "metadata": {
    "ExecuteTime": {
     "end_time": "2025-04-27T20:56:36.096607Z",
     "start_time": "2025-04-27T20:56:36.081994Z"
    }
   },
   "source": [
    "create_example(\"\")\n"
   ],
   "outputs": [
    {
     "name": "stdout",
     "output_type": "stream",
     "text": [
      "✅ Documento añadido con ID: be53ef81-ea8a-45eb-b4a3-7eb1bccae347\n"
     ]
    }
   ],
   "execution_count": 29
  },
  {
   "cell_type": "code",
   "metadata": {
    "ExecuteTime": {
     "end_time": "2025-04-27T20:56:50.102572Z",
     "start_time": "2025-04-27T20:56:50.099331Z"
    }
   },
   "source": "get_documents_by_id(\"be53ef81-ea8a-45eb-b4a3-7eb1bccae347\")",
   "outputs": [
    {
     "name": "stdout",
     "output_type": "stream",
     "text": [
      "📄 Documento: \n",
      "📁 Fuente: nuevo_documento.txt\n"
     ]
    }
   ],
   "execution_count": 30
  },
  {
   "cell_type": "markdown",
   "metadata": {},
   "source": [
    "a función create_example() permite añadir nuevos documentos a la base de datos utilizando un modelo de embeddings. Sin embargo, en su versión actual, no contiene ninguna validación que impida insertar cadenas vacías.\n",
    "\n",
    "Esto representa un problema, ya que:\n",
    "\n",
    "* Una cadena vacía no aporta significado semántico.\n",
    "\n",
    "* Aunque el modelo de embeddings pueda generar un vector (por ejemplo, uno por defecto o casi nulo), este no representa información útil.\n",
    "\n",
    "* Se corre el riesgo de contaminar la base de datos con documentos irrelevantes o sin contenido.\n",
    "\n",
    "Para solucionar esto se debería agregar una validación que verifique que el texto no esté vacío antes de generar el embedding e insertarlo. "
   ]
  },
  {
   "cell_type": "code",
   "metadata": {
    "ExecuteTime": {
     "end_time": "2025-04-27T20:57:00.928490Z",
     "start_time": "2025-04-27T20:57:00.924929Z"
    }
   },
   "source": [
    "def create_example(new_doc):\n",
    "    \"\"\"Añadir un documento nuevo (con validación de contenido)\"\"\"\n",
    "    if not new_doc.strip():\n",
    "        print(\"❌ Error: No se puede insertar un documento vacío.\")\n",
    "        return\n",
    "\n",
    "    embedding = get_embeddings(new_doc)\n",
    "    doc_id = str(uuid.uuid4())\n",
    "    metadata = {\"source\": \"nuevo_documento.txt\"}\n",
    "\n",
    "    collection.add(\n",
    "        documents=[new_doc],\n",
    "        embeddings=[embedding],\n",
    "        metadatas=[metadata],\n",
    "        ids=[doc_id]\n",
    "    )\n",
    "    print(f\"✅ Documento añadido con ID: {doc_id}\")"
   ],
   "outputs": [],
   "execution_count": 31
  },
  {
   "cell_type": "code",
   "metadata": {
    "ExecuteTime": {
     "end_time": "2025-04-27T20:57:04.100604Z",
     "start_time": "2025-04-27T20:57:04.098256Z"
    }
   },
   "source": [
    "create_example(\"\")"
   ],
   "outputs": [
    {
     "name": "stdout",
     "output_type": "stream",
     "text": [
      "❌ Error: No se puede insertar un documento vacío.\n"
     ]
    }
   ],
   "execution_count": 32
  },
  {
   "cell_type": "markdown",
   "metadata": {},
   "source": [
    "### ¿Qué lección aprendemos sobre los requisitos de ChromaDB?\n",
    "\n",
    "* Es responsabilidad del desarrollador validar el contenido de los documentos antes de insertarlos.\n",
    "\n",
    "* ChromaDB y los modelos de embeddings no siempre detendrán una inserción inválida, especialmente si se proporciona un embedding numéricamente válido.\n",
    "\n",
    "* Incluir controles de calidad y limpieza de datos mejora la consistencia y utilidad de la base vectorial."
   ]
  }
 ],
 "metadata": {
  "kernelspec": {
   "display_name": "basesdatosIA",
   "language": "python",
   "name": "python3"
  },
  "language_info": {
   "codemirror_mode": {
    "name": "ipython",
    "version": 3
   },
   "file_extension": ".py",
   "mimetype": "text/x-python",
   "name": "python",
   "nbconvert_exporter": "python",
   "pygments_lexer": "ipython3",
   "version": "3.11.9"
  }
 },
 "nbformat": 4,
 "nbformat_minor": 2
}
